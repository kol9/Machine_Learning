{
 "cells": [
  {
   "cell_type": "code",
   "execution_count": 34,
   "metadata": {},
   "outputs": [],
   "source": [
    "import pandas\n",
    "import numpy as np\n",
    "from lib import f1_score\n",
    "from lib import kernel_function\n",
    "from lib import distance_function\n",
    "from lib import nonParamRegression\n",
    "import matplotlib.pyplot as plt"
   ]
  },
  {
   "cell_type": "code",
   "execution_count": 35,
   "metadata": {},
   "outputs": [],
   "source": [
    "def dataset_minmax(ds):\n",
    "    minmax = []\n",
    "    for i in range(len(ds[0])):\n",
    "        min_val = ds[:, i].min()\n",
    "        max_val = ds[:, i].max()\n",
    "        minmax.append([min_val, max_val])\n",
    "    return minmax\n",
    "\n",
    "\n",
    "def normalize(ds, minmax):\n",
    "    for row in ds:\n",
    "        for i in range(len(row)):\n",
    "            row[i] = (row[i] - minmax[i][0]) / (minmax[i][1] - minmax[i][0])"
   ]
  },
  {
   "cell_type": "code",
   "execution_count": 36,
   "metadata": {},
   "outputs": [],
   "source": [
    "ds = pandas.read_csv('wine.csv')\n",
    "y_train = ds['class'].to_numpy()\n",
    "\n",
    "ds = ds.drop(columns=['class'])\n",
    "\n",
    "X_train = ds.to_numpy()\n",
    "\n",
    "normalize(X_train, dataset_minmax(X_train))\n",
    "\n",
    "y_train_onehot = []\n",
    "for i in range(len(y_train)):\n",
    "    arr = [0, 0, 0]\n",
    "    arr[y_train[i] - 1] = 1\n",
    "    y_train_onehot.append(arr)"
   ]
  },
  {
   "cell_type": "code",
   "execution_count": 37,
   "metadata": {},
   "outputs": [],
   "source": [
    "def cut_i_th(arr, i):\n",
    "    res = []\n",
    "    for j in range(len(arr)):\n",
    "        if i == j:\n",
    "            continue\n",
    "        res.append(arr[j])\n",
    "    return res"
   ]
  },
  {
   "cell_type": "code",
   "execution_count": 38,
   "metadata": {},
   "outputs": [],
   "source": [
    "def getf1(val, d, k, t):\n",
    "    confusion_matrix = np.zeros((3, 3))\n",
    "    for i in range(len(X_train)):\n",
    "        e = X_train[i]\n",
    "        expected = y_train[i]\n",
    "        predicted = nonParamRegression(e, cut_i_th(X_train.tolist(), i),\n",
    "                                       cut_i_th(y_train.tolist(), i),\n",
    "                                       window_type=t,\n",
    "                                       window_val=val,\n",
    "                                       distance=d,\n",
    "                                       kernel=k)\n",
    "        confusion_matrix[expected - 1][round(predicted) - 1] += 1\n",
    "    return f1_score(confusion_matrix)"
   ]
  },
  {
   "cell_type": "code",
   "execution_count": 39,
   "metadata": {},
   "outputs": [],
   "source": [
    "def getf1_onehot(val, d, k, t):\n",
    "    confusion_matrix = np.zeros((3, 3))\n",
    "    for i in range(len(X_train)):\n",
    "        e = X_train[i]\n",
    "        predicted = np.zeros(3)\n",
    "        for j in range(3):\n",
    "            predicted[j] = nonParamRegression(e, cut_i_th(X_train.tolist(), i),\n",
    "                                              cut_i_th(np.transpose(y_train_onehot)[j], i),\n",
    "                                              window_type=t,\n",
    "                                              window_val=val,\n",
    "                                              distance=d,\n",
    "                                              kernel=k)\n",
    "\n",
    "        exp = y_train[i]\n",
    "        pr = np.argmax(predicted)\n",
    "        confusion_matrix[exp - 1][pr] += 1\n",
    "    return f1_score(confusion_matrix)\n"
   ]
  },
  {
   "cell_type": "code",
   "execution_count": 40,
   "metadata": {},
   "outputs": [],
   "source": [
    "f_res_fixed = []\n",
    "window_val_fixed = []\n",
    "for val in np.arange(0.1, 3, 0.3):\n",
    "    window_val_fixed.append(val)\n",
    "    f_res_fixed.append(getf1(val, 'manhattan', 'uniform', 'fixed'))"
   ]
  },
  {
   "cell_type": "code",
   "execution_count": 41,
   "metadata": {},
   "outputs": [],
   "source": [
    "f_res_var = []\n",
    "window_val_var = []\n",
    "for val in range(1, 10):\n",
    "    window_val_var.append(val)\n",
    "    f_res_var.append(getf1(val, 'manhattan', 'uniform', 'variable'))"
   ]
  },
  {
   "cell_type": "code",
   "execution_count": 42,
   "metadata": {},
   "outputs": [],
   "source": [
    "f_res_onehot_fixed = []\n",
    "window_val_onehot_fixed = []\n",
    "for val in np.arange(0.1, 3, 0.3):\n",
    "    window_val_onehot_fixed.append(val)\n",
    "    f_res_onehot_fixed.append(getf1_onehot(val, 'manhattan', 'logistic', 'fixed'))"
   ]
  },
  {
   "cell_type": "code",
   "execution_count": 43,
   "metadata": {},
   "outputs": [],
   "source": [
    "f_res_onehot_var = []\n",
    "window_val_onehot_var = []\n",
    "for val in range(1, 10):\n",
    "    window_val_onehot_var.append(val)\n",
    "    f_res_onehot_var.append(getf1_onehot(val, 'manhattan', 'logistic', 'variable'))"
   ]
  },
  {
   "cell_type": "code",
   "execution_count": 44,
   "metadata": {},
   "outputs": [
    {
     "data": {
      "image/png": "[encoded data removed]",
      "text/plain": [
       "<Figure size 432x288 with 1 Axes>"
      ]
     },
     "metadata": {
      "needs_background": "light"
     },
     "output_type": "display_data"
    }
   ],
   "source": [
    "plt.ylim(0, 1)\n",
    "plt.plot(window_val_fixed, f_res_fixed, label='fixed')\n",
    "plt.plot(window_val_onehot_fixed, f_res_onehot_fixed, label='fixed one hot')\n",
    "plt.xlabel('window h')\n",
    "plt.ylabel('macro f score')\n",
    "plt.title(\"Wine classification KNN\")\n",
    "plt.legend()\n",
    "plt.show()"
   ]
  },
  {
   "cell_type": "code",
   "execution_count": 45,
   "metadata": {},
   "outputs": [
    {
     "data": {
      "image/png": "[encoded data removed]",
      "text/plain": [
       "<Figure size 432x288 with 1 Axes>"
      ]
     },
     "metadata": {
      "needs_background": "light"
     },
     "output_type": "display_data"
    }
   ],
   "source": [
    "plt.ylim(0.5, 1)\n",
    "plt.plot(window_val_var, f_res_var, label='variable')\n",
    "plt.plot(window_val_onehot_var, f_res_onehot_var, label='variable one hot')\n",
    "plt.xlabel('window k')\n",
    "plt.ylabel('macro f score')\n",
    "plt.title(\"Wine classification KNN\")\n",
    "plt.legend()\n",
    "plt.show()"
   ]
  },
  {
   "cell_type": "code",
   "execution_count": null,
   "metadata": {},
   "outputs": [],
   "source": []
  }
 ],
 "metadata": {
  "kernelspec": {
   "display_name": "PyCharm (Machine Learning)",
   "language": "python",
   "name": "pycharm-2419c8fd"
  },
  "language_info": {
   "codemirror_mode": {
    "name": "ipython",
    "version": 3
   },
   "file_extension": ".py",
   "mimetype": "text/x-python",
   "name": "python",
   "nbconvert_exporter": "python",
   "pygments_lexer": "ipython3",
   "version": "3.7.0"
  }
 },
 "nbformat": 4,
 "nbformat_minor": 1
}
