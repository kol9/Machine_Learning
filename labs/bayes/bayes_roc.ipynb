{
 "cells": [
  {
   "cell_type": "code",
   "execution_count": 1,
   "metadata": {},
   "outputs": [],
   "source": [
    "import os\n",
    "import numpy as np\n",
    "import matplotlib.pyplot as plt\n",
    "from lib import NaiveBayesClassifier\n",
    "\n",
    "directories = ['messages/part1',\n",
    "               'messages/part2',\n",
    "               'messages/part3',\n",
    "               'messages/part4',\n",
    "               'messages/part5',\n",
    "               'messages/part6',\n",
    "               'messages/part7',\n",
    "               'messages/part8',\n",
    "               'messages/part9',\n",
    "               'messages/part10']"
   ]
  },
  {
   "cell_type": "code",
   "execution_count": 2,
   "metadata": {},
   "outputs": [],
   "source": [
    "def draw_roc():\n",
    "    y_train = []\n",
    "    X_train = []\n",
    "    for dir in directories:\n",
    "        for filename in os.listdir(dir):\n",
    "            if 'spm' in filename:\n",
    "                file = open(dir + '/' + filename, \"r\")\n",
    "                subject = list(file.readline().split())[1:]\n",
    "                file.readline()\n",
    "                text = list(file.readline().split())\n",
    "\n",
    "                X_train.append(subject + text)\n",
    "                y_train.append(0)\n",
    "            else:\n",
    "                file = open(dir + '/' + filename, \"r\")\n",
    "                subject = list(file.readline().split())[1:]\n",
    "                file.readline()\n",
    "                text = list(file.readline().split())\n",
    "\n",
    "                X_train.append(subject + text)\n",
    "                y_train.append(1)\n",
    "\n",
    "    clf = NaiveBayesClassifier(X_train, y_train, 2, 1, 0.1)\n",
    "    clf.fit()\n",
    "    xs, ys = clf.roc_data()\n",
    "    plt.plot(xs, ys)\n",
    "\n",
    "    plt.plot([0, 1], [0, 1], linestyle='--')\n",
    "    plt.ylabel('True Positive Rate')\n",
    "    plt.xlabel('False Positive Rate')\n",
    "    plt.show()"
   ]
  },
  {
   "cell_type": "code",
   "execution_count": 3,
   "metadata": {},
   "outputs": [
    {
     "data": {
      "image/png": "[encoded data removed]",
      "text/plain": [
       "<Figure size 432x288 with 1 Axes>"
      ]
     },
     "metadata": {
      "needs_background": "light"
     },
     "output_type": "display_data"
    }
   ],
   "source": [
    "draw_roc()"
   ]
  },
  {
   "cell_type": "code",
   "execution_count": 7,
   "metadata": {},
   "outputs": [],
   "source": [
    "def cross_val_score(n_gram, alpha, penalty):\n",
    "    accuracy = 0\n",
    "    for i in range(10):\n",
    "        test_dir = directories[i]\n",
    "        X_train = []\n",
    "        y_train = []\n",
    "        \n",
    "        X_test = []\n",
    "        y_test = []\n",
    "        for dir in directories:\n",
    "            if dir == test_dir:\n",
    "                continue\n",
    "            for filename in os.listdir(dir):\n",
    "                if 'spm' in filename:\n",
    "                    file = open(dir + '/' + filename, \"r\")\n",
    "                    subject = list(file.readline().split())[1:]\n",
    "                    file.readline()\n",
    "                    text = list(file.readline().split())\n",
    "\n",
    "                    X_train.append(subject + text)\n",
    "                    y_train.append(0)\n",
    "                else:\n",
    "                    file = open(dir + '/' + filename, \"r\")\n",
    "                    subject = list(file.readline().split())[1:]\n",
    "                    file.readline()\n",
    "                    text = list(file.readline().split())\n",
    "\n",
    "                    X_train.append(subject + text)\n",
    "                    y_train.append(1)\n",
    "        n_legit = 0\n",
    "        for filename in os.listdir(test_dir):\n",
    "                if 'spm' in filename:\n",
    "                    file = open(test_dir + '/' + filename, \"r\")\n",
    "                    subject = list(file.readline().split())[1:]\n",
    "                    file.readline()\n",
    "                    text = list(file.readline().split())\n",
    "\n",
    "                    X_test.append(subject + text)\n",
    "                    y_test.append(0)\n",
    "                else:\n",
    "                    n_legit += 1\n",
    "                    file = open(test_dir + '/' + filename, \"r\")\n",
    "                    subject = list(file.readline().split())[1:]\n",
    "                    file.readline()\n",
    "                    text = list(file.readline().split())\n",
    "\n",
    "                    X_test.append(subject + text)\n",
    "                    y_test.append(1)\n",
    "        clf = NaiveBayesClassifier(X_train, y_train, 2, n_gram, alpha, penalty)\n",
    "        clf.fit()\n",
    "        pr = clf.predict(X_test)\n",
    "        acc = 0\n",
    "        for j in range(len(y_test)):\n",
    "            p = np.argmax(pr[j])\n",
    "            if p == y_test[j]:\n",
    "                if p == 1:\n",
    "                    n_legit -= 1\n",
    "                acc += 1\n",
    "            else:\n",
    "                if y_test[j] == 1:\n",
    "                    print(pr[j])\n",
    "        acc /= len(y_test)\n",
    "        accuracy += acc\n",
    "        print(\"Step\", i, \"Accuracy:\", acc, \"Missed legit:\",n_legit)\n",
    "    return accuracy / 10\n",
    "            \n"
   ]
  },
  {
   "cell_type": "code",
   "execution_count": 11,
   "metadata": {},
   "outputs": [
    {
     "name": "stdout",
     "output_type": "stream",
     "text": [
      "Step 0 Accuracy: 0.8623853211009175 Missed legit: 0\n",
      "Step 1 Accuracy: 0.8256880733944955 Missed legit: 0\n",
      "Step 2 Accuracy: 0.8165137614678899 Missed legit: 0\n",
      "Step 3 Accuracy: 0.8440366972477065 Missed legit: 0\n",
      "Step 4 Accuracy: 0.7798165137614679 Missed legit: 0\n",
      "Step 5 Accuracy: 0.7889908256880734 Missed legit: 0\n",
      "Step 6 Accuracy: 0.8623853211009175 Missed legit: 0\n",
      "Step 7 Accuracy: 0.8256880733944955 Missed legit: 0\n",
      "[9.99999996e-01 4.40164206e-09]\n",
      "Step 8 Accuracy: 0.7889908256880734 Missed legit: 1\n",
      "Step 9 Accuracy: 0.8165137614678899 Missed legit: 0\n"
     ]
    },
    {
     "data": {
      "text/plain": [
       "0.8211009174311925"
      ]
     },
     "execution_count": 11,
     "metadata": {},
     "output_type": "execute_result"
    }
   ],
   "source": [
    "cross_val_score(n_gram=1, alpha=0.1, penalty=[1, 1e30])"
   ]
  },
  {
   "cell_type": "code",
   "execution_count": 14,
   "metadata": {},
   "outputs": [
    {
     "name": "stdout",
     "output_type": "stream",
     "text": [
      "Step 0 Accuracy: 0.8623853211009175 Missed legit: 0\n",
      "Step 1 Accuracy: 0.8256880733944955 Missed legit: 0\n",
      "Step 2 Accuracy: 0.8165137614678899 Missed legit: 0\n",
      "Step 3 Accuracy: 0.8440366972477065 Missed legit: 0\n",
      "Step 4 Accuracy: 0.7798165137614679 Missed legit: 0\n",
      "Step 5 Accuracy: 0.7889908256880734 Missed legit: 0\n",
      "Step 6 Accuracy: 0.8623853211009175 Missed legit: 0\n",
      "Step 7 Accuracy: 0.8256880733944955 Missed legit: 0\n",
      "[9.99999993e-01 6.60246308e-09]\n",
      "Step 8 Accuracy: 0.7889908256880734 Missed legit: 1\n",
      "Step 9 Accuracy: 0.8165137614678899 Missed legit: 0\n"
     ]
    },
    {
     "data": {
      "text/plain": [
       "0.8211009174311925"
      ]
     },
     "execution_count": 14,
     "metadata": {},
     "output_type": "execute_result"
    }
   ],
   "source": [
    "cross_val_score(n_gram=1, alpha=0.1, penalty=[1, 1.5e30])"
   ]
  },
  {
   "cell_type": "code",
   "execution_count": 13,
   "metadata": {},
   "outputs": [
    {
     "name": "stdout",
     "output_type": "stream",
     "text": [
      "Step 0 Accuracy: 0.8348623853211009 Missed legit: 0\n",
      "Step 1 Accuracy: 0.7981651376146789 Missed legit: 0\n",
      "Step 2 Accuracy: 0.8073394495412844 Missed legit: 0\n",
      "Step 3 Accuracy: 0.7981651376146789 Missed legit: 0\n",
      "Step 4 Accuracy: 0.7706422018348624 Missed legit: 0\n",
      "Step 5 Accuracy: 0.7614678899082569 Missed legit: 0\n",
      "Step 6 Accuracy: 0.8532110091743119 Missed legit: 0\n",
      "Step 7 Accuracy: 0.8256880733944955 Missed legit: 0\n",
      "Step 8 Accuracy: 0.7614678899082569 Missed legit: 0\n",
      "Step 9 Accuracy: 0.7706422018348624 Missed legit: 0\n"
     ]
    },
    {
     "data": {
      "text/plain": [
       "0.7981651376146789"
      ]
     },
     "execution_count": 13,
     "metadata": {},
     "output_type": "execute_result"
    }
   ],
   "source": [
    "cross_val_score(n_gram=1, alpha=0.1, penalty=[1, 1e40])"
   ]
  },
  {
   "cell_type": "code",
   "execution_count": 12,
   "metadata": {},
   "outputs": [
    {
     "name": "stdout",
     "output_type": "stream",
     "text": [
      "Step 0 Accuracy: 0.7706422018348624 Missed legit: 0\n",
      "Step 1 Accuracy: 0.7798165137614679 Missed legit: 0\n",
      "Step 2 Accuracy: 0.7706422018348624 Missed legit: 0\n",
      "Step 3 Accuracy: 0.7706422018348624 Missed legit: 0\n",
      "Step 4 Accuracy: 0.7522935779816514 Missed legit: 0\n",
      "Step 5 Accuracy: 0.7247706422018348 Missed legit: 0\n",
      "Step 6 Accuracy: 0.8165137614678899 Missed legit: 0\n",
      "Step 7 Accuracy: 0.7798165137614679 Missed legit: 0\n",
      "Step 8 Accuracy: 0.7522935779816514 Missed legit: 0\n",
      "Step 9 Accuracy: 0.7339449541284404 Missed legit: 0\n"
     ]
    },
    {
     "data": {
      "text/plain": [
       "0.7651376146788992"
      ]
     },
     "execution_count": 12,
     "metadata": {},
     "output_type": "execute_result"
    }
   ],
   "source": [
    "cross_val_score(n_gram=1, alpha=0.1, penalty=[1, 1e50])"
   ]
  },
  {
   "cell_type": "markdown",
   "metadata": {},
   "source": [
    "------------"
   ]
  },
  {
   "cell_type": "code",
   "execution_count": 15,
   "metadata": {},
   "outputs": [
    {
     "name": "stdout",
     "output_type": "stream",
     "text": [
      "Step 0 Accuracy: 0.8807339449541285 Missed legit: 0\n",
      "Step 1 Accuracy: 0.8532110091743119 Missed legit: 0\n",
      "Step 2 Accuracy: 0.8807339449541285 Missed legit: 0\n",
      "Step 3 Accuracy: 0.8899082568807339 Missed legit: 0\n",
      "Step 4 Accuracy: 0.8073394495412844 Missed legit: 0\n",
      "Step 5 Accuracy: 0.8256880733944955 Missed legit: 0\n",
      "Step 6 Accuracy: 0.8715596330275229 Missed legit: 0\n",
      "Step 7 Accuracy: 0.8623853211009175 Missed legit: 0\n",
      "[9.99999999e-01 5.43715883e-10]\n",
      "Step 8 Accuracy: 0.8165137614678899 Missed legit: 1\n",
      "Step 9 Accuracy: 0.8899082568807339 Missed legit: 0\n"
     ]
    },
    {
     "data": {
      "text/plain": [
       "0.8577981651376148"
      ]
     },
     "execution_count": 15,
     "metadata": {},
     "output_type": "execute_result"
    }
   ],
   "source": [
    "cross_val_score(n_gram=1, alpha=0.001, penalty=[1, 1e30])"
   ]
  },
  {
   "cell_type": "code",
   "execution_count": 16,
   "metadata": {},
   "outputs": [
    {
     "name": "stdout",
     "output_type": "stream",
     "text": [
      "Step 0 Accuracy: 0.8807339449541285 Missed legit: 0\n",
      "Step 1 Accuracy: 0.8532110091743119 Missed legit: 0\n",
      "Step 2 Accuracy: 0.8807339449541285 Missed legit: 0\n",
      "Step 3 Accuracy: 0.8899082568807339 Missed legit: 0\n",
      "Step 4 Accuracy: 0.8073394495412844 Missed legit: 0\n",
      "Step 5 Accuracy: 0.8256880733944955 Missed legit: 0\n",
      "Step 6 Accuracy: 0.8715596330275229 Missed legit: 0\n",
      "Step 7 Accuracy: 0.8623853211009175 Missed legit: 0\n",
      "[9.99999999e-01 8.15573825e-10]\n",
      "Step 8 Accuracy: 0.8165137614678899 Missed legit: 1\n",
      "Step 9 Accuracy: 0.8899082568807339 Missed legit: 0\n"
     ]
    },
    {
     "data": {
      "text/plain": [
       "0.8577981651376148"
      ]
     },
     "execution_count": 16,
     "metadata": {},
     "output_type": "execute_result"
    }
   ],
   "source": [
    "cross_val_score(n_gram=1, alpha=0.001, penalty=[1, 1.5e30])"
   ]
  },
  {
   "cell_type": "code",
   "execution_count": 17,
   "metadata": {},
   "outputs": [
    {
     "name": "stdout",
     "output_type": "stream",
     "text": [
      "Step 0 Accuracy: 0.8807339449541285 Missed legit: 0\n",
      "Step 1 Accuracy: 0.8532110091743119 Missed legit: 0\n",
      "Step 2 Accuracy: 0.8807339449541285 Missed legit: 0\n",
      "Step 3 Accuracy: 0.8899082568807339 Missed legit: 0\n",
      "Step 4 Accuracy: 0.8073394495412844 Missed legit: 0\n",
      "Step 5 Accuracy: 0.8256880733944955 Missed legit: 0\n",
      "Step 6 Accuracy: 0.8715596330275229 Missed legit: 0\n",
      "Step 7 Accuracy: 0.8623853211009175 Missed legit: 0\n",
      "[9.99999999e-01 1.08743177e-09]\n",
      "Step 8 Accuracy: 0.8165137614678899 Missed legit: 1\n",
      "Step 9 Accuracy: 0.8899082568807339 Missed legit: 0\n"
     ]
    },
    {
     "data": {
      "text/plain": [
       "0.8577981651376148"
      ]
     },
     "execution_count": 17,
     "metadata": {},
     "output_type": "execute_result"
    }
   ],
   "source": [
    "cross_val_score(n_gram=1, alpha=0.001, penalty=[1, 2e30])"
   ]
  },
  {
   "cell_type": "code",
   "execution_count": 18,
   "metadata": {},
   "outputs": [
    {
     "name": "stdout",
     "output_type": "stream",
     "text": [
      "Step 0 Accuracy: 0.8807339449541285 Missed legit: 0\n",
      "Step 1 Accuracy: 0.8532110091743119 Missed legit: 0\n",
      "Step 2 Accuracy: 0.8807339449541285 Missed legit: 0\n",
      "Step 3 Accuracy: 0.8899082568807339 Missed legit: 0\n",
      "Step 4 Accuracy: 0.8073394495412844 Missed legit: 0\n",
      "Step 5 Accuracy: 0.8256880733944955 Missed legit: 0\n",
      "Step 6 Accuracy: 0.8715596330275229 Missed legit: 0\n",
      "Step 7 Accuracy: 0.8623853211009175 Missed legit: 0\n",
      "[9.99999998e-01 1.63114765e-09]\n",
      "Step 8 Accuracy: 0.8165137614678899 Missed legit: 1\n",
      "Step 9 Accuracy: 0.8899082568807339 Missed legit: 0\n"
     ]
    },
    {
     "data": {
      "text/plain": [
       "0.8577981651376148"
      ]
     },
     "execution_count": 18,
     "metadata": {},
     "output_type": "execute_result"
    }
   ],
   "source": [
    "cross_val_score(n_gram=1, alpha=0.001, penalty=[1, 3e30])"
   ]
  },
  {
   "cell_type": "code",
   "execution_count": 19,
   "metadata": {},
   "outputs": [
    {
     "name": "stdout",
     "output_type": "stream",
     "text": [
      "Step 0 Accuracy: 0.8807339449541285 Missed legit: 0\n",
      "Step 1 Accuracy: 0.8532110091743119 Missed legit: 0\n",
      "Step 2 Accuracy: 0.8807339449541285 Missed legit: 0\n",
      "Step 3 Accuracy: 0.8899082568807339 Missed legit: 0\n",
      "Step 4 Accuracy: 0.8073394495412844 Missed legit: 0\n",
      "Step 5 Accuracy: 0.8256880733944955 Missed legit: 0\n",
      "Step 6 Accuracy: 0.8715596330275229 Missed legit: 0\n",
      "Step 7 Accuracy: 0.8623853211009175 Missed legit: 0\n",
      "[9.99999998e-01 2.17486353e-09]\n",
      "Step 8 Accuracy: 0.8073394495412844 Missed legit: 1\n",
      "Step 9 Accuracy: 0.8899082568807339 Missed legit: 0\n"
     ]
    },
    {
     "data": {
      "text/plain": [
       "0.856880733944954"
      ]
     },
     "execution_count": 19,
     "metadata": {},
     "output_type": "execute_result"
    }
   ],
   "source": [
    "cross_val_score(n_gram=1, alpha=0.001, penalty=[1, 4e30])"
   ]
  },
  {
   "cell_type": "code",
   "execution_count": 27,
   "metadata": {},
   "outputs": [
    {
     "name": "stdout",
     "output_type": "stream",
     "text": [
      "Step 0 Accuracy: 0.963302752293578 Missed legit: 0\n",
      "Step 1 Accuracy: 0.9541284403669725 Missed legit: 0\n",
      "Step 2 Accuracy: 0.944954128440367 Missed legit: 0\n",
      "Step 3 Accuracy: 0.981651376146789 Missed legit: 0\n",
      "Step 4 Accuracy: 0.944954128440367 Missed legit: 0\n",
      "[9.99999996e-01 3.63239372e-09]\n",
      "Step 5 Accuracy: 0.9357798165137615 Missed legit: 1\n",
      "[0.98741529 0.01258471]\n",
      "Step 6 Accuracy: 0.963302752293578 Missed legit: 1\n",
      "Step 7 Accuracy: 0.963302752293578 Missed legit: 0\n",
      "[1.00000000e+00 5.43715884e-38]\n",
      "[1.00000000e+00 1.08349053e-16]\n",
      "[0.99892118 0.00107882]\n",
      "Step 8 Accuracy: 0.9357798165137615 Missed legit: 3\n",
      "Step 9 Accuracy: 0.981651376146789 Missed legit: 0\n"
     ]
    },
    {
     "data": {
      "text/plain": [
       "0.9568807339449542"
      ]
     },
     "execution_count": 27,
     "metadata": {},
     "output_type": "execute_result"
    }
   ],
   "source": [
    "cross_val_score(n_gram=1, alpha=0.001, penalty=[1, 100])"
   ]
  },
  {
   "cell_type": "code",
   "execution_count": 21,
   "metadata": {},
   "outputs": [
    {
     "name": "stdout",
     "output_type": "stream",
     "text": [
      "Step 0 Accuracy: 0.8807339449541285 Missed legit: 0\n",
      "Step 1 Accuracy: 0.8532110091743119 Missed legit: 0\n",
      "Step 2 Accuracy: 0.8807339449541285 Missed legit: 0\n",
      "Step 3 Accuracy: 0.8899082568807339 Missed legit: 0\n",
      "Step 4 Accuracy: 0.8073394495412844 Missed legit: 0\n",
      "Step 5 Accuracy: 0.8256880733944955 Missed legit: 0\n",
      "Step 6 Accuracy: 0.8715596330275229 Missed legit: 0\n",
      "Step 7 Accuracy: 0.8623853211009175 Missed legit: 0\n",
      "[9.99999997e-01 3.26229529e-09]\n",
      "Step 8 Accuracy: 0.8073394495412844 Missed legit: 1\n",
      "Step 9 Accuracy: 0.8899082568807339 Missed legit: 0\n"
     ]
    },
    {
     "data": {
      "text/plain": [
       "0.856880733944954"
      ]
     },
     "execution_count": 21,
     "metadata": {},
     "output_type": "execute_result"
    }
   ],
   "source": [
    "cross_val_score(n_gram=1, alpha=0.001, penalty=[1, 6e30])"
   ]
  },
  {
   "cell_type": "code",
   "execution_count": 22,
   "metadata": {},
   "outputs": [
    {
     "name": "stdout",
     "output_type": "stream",
     "text": [
      "Step 0 Accuracy: 0.8807339449541285 Missed legit: 0\n",
      "Step 1 Accuracy: 0.8532110091743119 Missed legit: 0\n",
      "Step 2 Accuracy: 0.8807339449541285 Missed legit: 0\n",
      "Step 3 Accuracy: 0.8899082568807339 Missed legit: 0\n",
      "Step 4 Accuracy: 0.8073394495412844 Missed legit: 0\n",
      "Step 5 Accuracy: 0.8256880733944955 Missed legit: 0\n",
      "Step 6 Accuracy: 0.8715596330275229 Missed legit: 0\n",
      "Step 7 Accuracy: 0.8623853211009175 Missed legit: 0\n",
      "[9.99999996e-01 3.80601117e-09]\n",
      "Step 8 Accuracy: 0.8073394495412844 Missed legit: 1\n",
      "Step 9 Accuracy: 0.8807339449541285 Missed legit: 0\n"
     ]
    },
    {
     "data": {
      "text/plain": [
       "0.8559633027522935"
      ]
     },
     "execution_count": 22,
     "metadata": {},
     "output_type": "execute_result"
    }
   ],
   "source": [
    "cross_val_score(n_gram=1, alpha=0.001, penalty=[1, 7e30])"
   ]
  },
  {
   "cell_type": "code",
   "execution_count": 23,
   "metadata": {},
   "outputs": [
    {
     "name": "stdout",
     "output_type": "stream",
     "text": [
      "Step 0 Accuracy: 0.8807339449541285 Missed legit: 0\n",
      "Step 1 Accuracy: 0.8532110091743119 Missed legit: 0\n",
      "Step 2 Accuracy: 0.8807339449541285 Missed legit: 0\n",
      "Step 3 Accuracy: 0.8899082568807339 Missed legit: 0\n",
      "Step 4 Accuracy: 0.8073394495412844 Missed legit: 0\n",
      "Step 5 Accuracy: 0.8256880733944955 Missed legit: 0\n",
      "Step 6 Accuracy: 0.8715596330275229 Missed legit: 0\n",
      "Step 7 Accuracy: 0.8623853211009175 Missed legit: 0\n",
      "[9.99999996e-01 4.34972705e-09]\n",
      "Step 8 Accuracy: 0.8073394495412844 Missed legit: 1\n",
      "Step 9 Accuracy: 0.8807339449541285 Missed legit: 0\n"
     ]
    },
    {
     "data": {
      "text/plain": [
       "0.8559633027522935"
      ]
     },
     "execution_count": 23,
     "metadata": {},
     "output_type": "execute_result"
    }
   ],
   "source": [
    "cross_val_score(n_gram=1, alpha=0.001, penalty=[1, 8e30])"
   ]
  },
  {
   "cell_type": "code",
   "execution_count": 24,
   "metadata": {},
   "outputs": [
    {
     "name": "stdout",
     "output_type": "stream",
     "text": [
      "Step 0 Accuracy: 0.8807339449541285 Missed legit: 0\n",
      "Step 1 Accuracy: 0.8532110091743119 Missed legit: 0\n",
      "Step 2 Accuracy: 0.8807339449541285 Missed legit: 0\n",
      "Step 3 Accuracy: 0.8899082568807339 Missed legit: 0\n",
      "Step 4 Accuracy: 0.8073394495412844 Missed legit: 0\n",
      "Step 5 Accuracy: 0.8256880733944955 Missed legit: 0\n",
      "Step 6 Accuracy: 0.8715596330275229 Missed legit: 0\n",
      "Step 7 Accuracy: 0.8623853211009175 Missed legit: 0\n",
      "[9.99999995e-01 4.89344293e-09]\n",
      "Step 8 Accuracy: 0.8073394495412844 Missed legit: 1\n",
      "Step 9 Accuracy: 0.8807339449541285 Missed legit: 0\n"
     ]
    },
    {
     "data": {
      "text/plain": [
       "0.8559633027522935"
      ]
     },
     "execution_count": 24,
     "metadata": {},
     "output_type": "execute_result"
    }
   ],
   "source": [
    "cross_val_score(n_gram=1, alpha=0.001, penalty=[1, 9e30])"
   ]
  },
  {
   "cell_type": "code",
   "execution_count": 25,
   "metadata": {},
   "outputs": [
    {
     "name": "stdout",
     "output_type": "stream",
     "text": [
      "Step 0 Accuracy: 0.8715596330275229 Missed legit: 0\n",
      "Step 1 Accuracy: 0.8348623853211009 Missed legit: 0\n",
      "Step 2 Accuracy: 0.8348623853211009 Missed legit: 0\n",
      "Step 3 Accuracy: 0.8623853211009175 Missed legit: 0\n",
      "Step 4 Accuracy: 0.7981651376146789 Missed legit: 0\n",
      "Step 5 Accuracy: 0.7889908256880734 Missed legit: 0\n",
      "Step 6 Accuracy: 0.8715596330275229 Missed legit: 0\n",
      "Step 7 Accuracy: 0.8440366972477065 Missed legit: 0\n",
      "Step 8 Accuracy: 0.7981651376146789 Missed legit: 0\n",
      "Step 9 Accuracy: 0.8256880733944955 Missed legit: 0\n"
     ]
    },
    {
     "data": {
      "text/plain": [
       "0.8330275229357799"
      ]
     },
     "execution_count": 25,
     "metadata": {},
     "output_type": "execute_result"
    }
   ],
   "source": [
    "cross_val_score(n_gram=1, alpha=0.001, penalty=[1, 1e40])"
   ]
  },
  {
   "cell_type": "code",
   "execution_count": 30,
   "metadata": {},
   "outputs": [
    {
     "data": {
      "image/png": "[encoded data removed]",
      "text/plain": [
       "<Figure size 432x288 with 1 Axes>"
      ]
     },
     "metadata": {
      "needs_background": "light"
     },
     "output_type": "display_data"
    }
   ],
   "source": [
    "legit_penalty = [100, 1e30,4e30,7e30,1e40]\n",
    "accuracy = [0.9568807339449542,0.8577981651376148,0.856880733944954,0.8559633027522935,0.8330275229357799]\n",
    "legit_penalty = [1e30,4e30,7e30,1e40]\n",
    "accuracy = [0.8577981651376148,0.856880733944954,0.8559633027522935,0.8330275229357799]\n",
    "plt.plot(legit_penalty, accuracy)\n",
    "plt.xlabel('legit penalty')\n",
    "plt.ylabel('accuracy')\n",
    "plt.show()"
   ]
  },
  {
   "cell_type": "code",
   "execution_count": null,
   "metadata": {},
   "outputs": [],
   "source": []
  }
 ],
 "metadata": {
  "kernelspec": {
   "display_name": "PyCharm (Machine Learning)",
   "language": "python",
   "name": "pycharm-2419c8fd"
  },
  "language_info": {
   "codemirror_mode": {
    "name": "ipython",
    "version": 3
   },
   "file_extension": ".py",
   "mimetype": "text/x-python",
   "name": "python",
   "nbconvert_exporter": "python",
   "pygments_lexer": "ipython3",
   "version": "3.7.0"
  }
 },
 "nbformat": 4,
 "nbformat_minor": 4
}