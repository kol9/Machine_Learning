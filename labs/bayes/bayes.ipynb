{
 "cells": [
  {
   "cell_type": "code",
   "execution_count": 1,
   "metadata": {},
   "outputs": [],
   "source": [
    "import os\n",
    "import numpy as np\n",
    "import matplotlib.pyplot as plt\n",
    "from lib import NaiveBayesClassifier\n",
    "\n",
    "directories = ['messages/part1',\n",
    "               'messages/part2',\n",
    "               'messages/part3',\n",
    "               'messages/part4',\n",
    "               'messages/part5',\n",
    "               'messages/part6',\n",
    "               'messages/part7',\n",
    "               'messages/part8',\n",
    "               'messages/part9',\n",
    "               'messages/part10']"
   ]
  },
  {
   "cell_type": "code",
   "execution_count": 2,
   "metadata": {},
   "outputs": [],
   "source": [
    "def draw_roc():\n",
    "    y_train = []\n",
    "    X_train = []\n",
    "    for dir in directories:\n",
    "        for filename in os.listdir(dir):\n",
    "            if 'spm' in filename:\n",
    "                file = open(dir + '/' + filename, \"r\")\n",
    "                subject = list(file.readline().split())[1:]\n",
    "                file.readline()\n",
    "                text = list(file.readline().split())\n",
    "\n",
    "                X_train.append(subject + text)\n",
    "                y_train.append(0)\n",
    "            else:\n",
    "                file = open(dir + '/' + filename, \"r\")\n",
    "                subject = list(file.readline().split())[1:]\n",
    "                file.readline()\n",
    "                text = list(file.readline().split())\n",
    "\n",
    "                X_train.append(subject + text)\n",
    "                y_train.append(1)\n",
    "\n",
    "    clf = NaiveBayesClassifier(X_train, y_train, 2, 1, 0.1)\n",
    "    clf.fit()\n",
    "    xs, ys = clf.roc_data()\n",
    "    plt.plot(xs, ys)\n",
    "\n",
    "    plt.plot([0, 1], [0, 1], linestyle='--')\n",
    "    plt.ylabel('True Positive Rate')\n",
    "    plt.xlabel('False Positive Rate')\n",
    "    plt.show()"
   ]
  },
  {
   "cell_type": "code",
   "execution_count": 3,
   "metadata": {},
   "outputs": [],
   "source": [
    "def cross_val_score(n_gram, alpha, penalty):\n",
    "    accuracy = 0\n",
    "    for i in range(10):\n",
    "        test_dir = directories[i]\n",
    "        X_train = []\n",
    "        y_train = []\n",
    "        \n",
    "        X_test = []\n",
    "        y_test = []\n",
    "        for dir in directories:\n",
    "            if dir == test_dir:\n",
    "                continue\n",
    "            for filename in os.listdir(dir):\n",
    "                if 'spm' in filename:\n",
    "                    file = open(dir + '/' + filename, \"r\")\n",
    "                    subject = list(file.readline().split())[1:]\n",
    "                    file.readline()\n",
    "                    text = list(file.readline().split())\n",
    "\n",
    "                    X_train.append(subject + text)\n",
    "                    y_train.append(0)\n",
    "                else:\n",
    "                    file = open(dir + '/' + filename, \"r\")\n",
    "                    subject = list(file.readline().split())[1:]\n",
    "                    file.readline()\n",
    "                    text = list(file.readline().split())\n",
    "\n",
    "                    X_train.append(subject + text)\n",
    "                    y_train.append(1)\n",
    "        n_legit = 0\n",
    "        for filename in os.listdir(test_dir):\n",
    "                if 'spm' in filename:\n",
    "                    file = open(test_dir + '/' + filename, \"r\")\n",
    "                    subject = list(file.readline().split())[1:]\n",
    "                    file.readline()\n",
    "                    text = list(file.readline().split())\n",
    "\n",
    "                    X_test.append(subject + text)\n",
    "                    y_test.append(0)\n",
    "                else:\n",
    "                    n_legit += 1\n",
    "                    file = open(test_dir + '/' + filename, \"r\")\n",
    "                    subject = list(file.readline().split())[1:]\n",
    "                    file.readline()\n",
    "                    text = list(file.readline().split())\n",
    "\n",
    "                    X_test.append(subject + text)\n",
    "                    y_test.append(1)\n",
    "        clf = NaiveBayesClassifier(X_train, y_train, 2, n_gram, alpha, penalty)\n",
    "        clf.fit()\n",
    "        pr = clf.predict(X_test)\n",
    "        acc = 0\n",
    "        for j in range(len(y_test)):\n",
    "            p = np.argmax(pr[j])\n",
    "            if p == y_test[j]:\n",
    "                if p == 1:\n",
    "                    n_legit -= 1\n",
    "                acc += 1\n",
    "            else:\n",
    "                if y_test[j] == 1:\n",
    "                    print(pr[j])\n",
    "        acc /= len(y_test)\n",
    "        accuracy += acc\n",
    "        print(\"Step\", i, \"Accuracy:\", acc, \"Missed legit:\",n_legit)\n",
    "    return accuracy / 10\n",
    "            \n"
   ]
  },
  {
   "cell_type": "code",
   "execution_count": 4,
   "metadata": {},
   "outputs": [
    {
     "name": "stdout",
     "output_type": "stream",
     "text": [
      "[9.99999996e-01 4.49731952e-09]\n",
      "Step 0 Accuracy: 0.9541284403669725 Missed legit: 1\n",
      "Step 1 Accuracy: 0.944954128440367 Missed legit: 0\n",
      "Step 2 Accuracy: 0.944954128440367 Missed legit: 0\n",
      "Step 3 Accuracy: 0.9724770642201835 Missed legit: 0\n",
      "Step 4 Accuracy: 0.944954128440367 Missed legit: 0\n",
      "[1.00000000e+00 1.73137356e-16]\n",
      "Step 5 Accuracy: 0.9541284403669725 Missed legit: 1\n",
      "[1.00000000e+00 2.01024337e-22]\n",
      "[9.99649418e-01 3.50582275e-04]\n",
      "Step 6 Accuracy: 0.9541284403669725 Missed legit: 2\n",
      "[0.93660555 0.06339445]\n",
      "Step 7 Accuracy: 0.9541284403669725 Missed legit: 1\n",
      "[1.00000000e+00 4.40164208e-39]\n",
      "[0.51210355 0.48789645]\n",
      "[1.00000000e+00 7.35664154e-11]\n",
      "Step 8 Accuracy: 0.9174311926605505 Missed legit: 3\n",
      "Step 9 Accuracy: 0.9908256880733946 Missed legit: 0\n"
     ]
    },
    {
     "data": {
      "text/plain": [
       "0.9532110091743119"
      ]
     },
     "execution_count": 4,
     "metadata": {},
     "output_type": "execute_result"
    }
   ],
   "source": [
    "cross_val_score(n_gram=1, alpha=0.1, penalty=[1, 1])"
   ]
  },
  {
   "cell_type": "code",
   "execution_count": 5,
   "metadata": {},
   "outputs": [
    {
     "name": "stdout",
     "output_type": "stream",
     "text": [
      "Step 0 Accuracy: 0.9174311926605505 Missed legit: 0\n",
      "Step 1 Accuracy: 0.8990825688073395 Missed legit: 0\n",
      "Step 2 Accuracy: 0.908256880733945 Missed legit: 0\n",
      "Step 3 Accuracy: 0.8807339449541285 Missed legit: 0\n",
      "Step 4 Accuracy: 0.8715596330275229 Missed legit: 0\n",
      "[1.00000000e+00 5.95499379e-32]\n",
      "Step 5 Accuracy: 0.926605504587156 Missed legit: 1\n",
      "[1.00000000e+00 8.11707164e-43]\n",
      "Step 6 Accuracy: 0.908256880733945 Missed legit: 1\n",
      "Step 7 Accuracy: 0.926605504587156 Missed legit: 0\n",
      "[1.00000000e+00 2.58338143e-87]\n",
      "Step 8 Accuracy: 0.8532110091743119 Missed legit: 1\n",
      "Step 9 Accuracy: 0.908256880733945 Missed legit: 0\n"
     ]
    },
    {
     "data": {
      "text/plain": [
       "0.9"
      ]
     },
     "execution_count": 5,
     "metadata": {},
     "output_type": "execute_result"
    }
   ],
   "source": [
    "cross_val_score(n_gram=2, alpha=0.1, penalty=[1, 1])"
   ]
  },
  {
   "cell_type": "code",
   "execution_count": 6,
   "metadata": {},
   "outputs": [
    {
     "name": "stdout",
     "output_type": "stream",
     "text": [
      "[9.99871881e-01 1.28119223e-04]\n",
      "Step 0 Accuracy: 0.9541284403669725 Missed legit: 1\n",
      "Step 1 Accuracy: 0.963302752293578 Missed legit: 0\n",
      "Step 2 Accuracy: 0.9541284403669725 Missed legit: 0\n",
      "Step 3 Accuracy: 0.981651376146789 Missed legit: 0\n",
      "Step 4 Accuracy: 0.944954128440367 Missed legit: 0\n",
      "[1.0000000e+00 4.1908532e-14]\n",
      "Step 5 Accuracy: 0.944954128440367 Missed legit: 1\n",
      "[1.00000000e+00 3.21875007e-12]\n",
      "[9.99860354e-01 1.39645908e-04]\n",
      "Step 6 Accuracy: 0.9541284403669725 Missed legit: 2\n",
      "[0.97836941 0.02163059]\n",
      "Step 7 Accuracy: 0.963302752293578 Missed legit: 1\n",
      "[1.00000000e+00 6.59781514e-40]\n",
      "[9.99999999e-01 1.06589337e-09]\n",
      "[9.99999987e-01 1.28944329e-08]\n",
      "Step 8 Accuracy: 0.9357798165137615 Missed legit: 3\n",
      "Step 9 Accuracy: 0.9908256880733946 Missed legit: 0\n"
     ]
    },
    {
     "data": {
      "text/plain": [
       "0.9587155963302753"
      ]
     },
     "execution_count": 6,
     "metadata": {},
     "output_type": "execute_result"
    }
   ],
   "source": [
    "cross_val_score(n_gram=1, alpha=0.01, penalty=[1, 1])"
   ]
  },
  {
   "cell_type": "code",
   "execution_count": 7,
   "metadata": {},
   "outputs": [
    {
     "name": "stdout",
     "output_type": "stream",
     "text": [
      "Step 0 Accuracy: 0.963302752293578 Missed legit: 0\n",
      "Step 1 Accuracy: 0.9724770642201835 Missed legit: 0\n",
      "Step 2 Accuracy: 0.963302752293578 Missed legit: 0\n",
      "Step 3 Accuracy: 0.981651376146789 Missed legit: 0\n",
      "Step 4 Accuracy: 0.9541284403669725 Missed legit: 0\n",
      "[1.00000000e+00 3.63239374e-11]\n",
      "Step 5 Accuracy: 0.9357798165137615 Missed legit: 1\n",
      "[0.78914236 0.21085764]\n",
      "[9.99872565e-01 1.27434771e-04]\n",
      "Step 6 Accuracy: 0.9541284403669725 Missed legit: 2\n",
      "[0.9806241 0.0193759]\n",
      "Step 7 Accuracy: 0.963302752293578 Missed legit: 1\n",
      "[1.00000000e+00 5.43715884e-40]\n",
      "[1.00000000e+00 1.08349053e-18]\n",
      "[9.99989200e-01 1.07997582e-05]\n",
      "Step 8 Accuracy: 0.9357798165137615 Missed legit: 3\n",
      "Step 9 Accuracy: 0.981651376146789 Missed legit: 0\n"
     ]
    },
    {
     "data": {
      "text/plain": [
       "0.9605504587155964"
      ]
     },
     "execution_count": 7,
     "metadata": {},
     "output_type": "execute_result"
    }
   ],
   "source": [
    "cross_val_score(n_gram=1, alpha=0.001, penalty=[1, 1])"
   ]
  },
  {
   "cell_type": "code",
   "execution_count": 8,
   "metadata": {},
   "outputs": [
    {
     "name": "stdout",
     "output_type": "stream",
     "text": [
      "Step 0 Accuracy: 0.9724770642201835 Missed legit: 0\n",
      "Step 1 Accuracy: 0.9724770642201835 Missed legit: 0\n",
      "Step 2 Accuracy: 0.9724770642201835 Missed legit: 0\n",
      "Step 3 Accuracy: 0.981651376146789 Missed legit: 0\n",
      "Step 4 Accuracy: 0.963302752293578 Missed legit: 0\n",
      "[9.99999964e-01 3.58077249e-08]\n",
      "Step 5 Accuracy: 0.9357798165137615 Missed legit: 1\n",
      "[9.99873725e-01 1.26274728e-04]\n",
      "Step 6 Accuracy: 0.963302752293578 Missed legit: 1\n",
      "[0.98083657 0.01916343]\n",
      "Step 7 Accuracy: 0.981651376146789 Missed legit: 1\n",
      "[1.00000000e+00 5.33276135e-40]\n",
      "[1.00000000e+00 1.08532555e-27]\n",
      "[0.98950161 0.01049839]\n",
      "Step 8 Accuracy: 0.9357798165137615 Missed legit: 3\n",
      "Step 9 Accuracy: 0.981651376146789 Missed legit: 0\n"
     ]
    },
    {
     "data": {
      "text/plain": [
       "0.9660550458715598"
      ]
     },
     "execution_count": 8,
     "metadata": {},
     "output_type": "execute_result"
    }
   ],
   "source": [
    "cross_val_score(n_gram=1, alpha=0.0001, penalty=[1, 1])"
   ]
  },
  {
   "cell_type": "code",
   "execution_count": 9,
   "metadata": {},
   "outputs": [
    {
     "name": "stdout",
     "output_type": "stream",
     "text": [
      "Step 0 Accuracy: 0.963302752293578 Missed legit: 0\n",
      "Step 1 Accuracy: 0.944954128440367 Missed legit: 0\n",
      "Step 2 Accuracy: 0.926605504587156 Missed legit: 0\n",
      "Step 3 Accuracy: 0.963302752293578 Missed legit: 0\n",
      "Step 4 Accuracy: 0.9357798165137615 Missed legit: 0\n",
      "Step 5 Accuracy: 0.9357798165137615 Missed legit: 0\n",
      "Step 6 Accuracy: 0.9724770642201835 Missed legit: 0\n",
      "Step 7 Accuracy: 0.9541284403669725 Missed legit: 0\n",
      "[1.00000000e+00 5.32243038e-31]\n",
      "[1.00000000e+00 1.08550982e-27]\n",
      "Step 8 Accuracy: 0.9357798165137615 Missed legit: 2\n",
      "Step 9 Accuracy: 0.9724770642201835 Missed legit: 0\n"
     ]
    },
    {
     "data": {
      "text/plain": [
       "0.9504587155963303"
      ]
     },
     "execution_count": 9,
     "metadata": {},
     "output_type": "execute_result"
    }
   ],
   "source": [
    "cross_val_score(n_gram=1, alpha=0.00001, penalty=[1, 1000000000])"
   ]
  },
  {
   "cell_type": "code",
   "execution_count": 10,
   "metadata": {},
   "outputs": [
    {
     "name": "stdout",
     "output_type": "stream",
     "text": [
      "Step 0 Accuracy: 0.963302752293578 Missed legit: 0\n",
      "Step 1 Accuracy: 0.944954128440367 Missed legit: 0\n",
      "Step 2 Accuracy: 0.926605504587156 Missed legit: 0\n",
      "Step 3 Accuracy: 0.9541284403669725 Missed legit: 0\n",
      "Step 4 Accuracy: 0.9357798165137615 Missed legit: 0\n",
      "Step 5 Accuracy: 0.9357798165137615 Missed legit: 0\n",
      "Step 6 Accuracy: 0.9724770642201835 Missed legit: 0\n",
      "Step 7 Accuracy: 0.9541284403669725 Missed legit: 0\n",
      "[1.00000000e+00 5.32243038e-30]\n",
      "[1.00000000e+00 1.08550982e-26]\n",
      "Step 8 Accuracy: 0.9357798165137615 Missed legit: 2\n",
      "Step 9 Accuracy: 0.963302752293578 Missed legit: 0\n"
     ]
    },
    {
     "data": {
      "text/plain": [
       "0.9486238532110092"
      ]
     },
     "execution_count": 10,
     "metadata": {},
     "output_type": "execute_result"
    }
   ],
   "source": [
    "cross_val_score(n_gram=1, alpha=0.00001, penalty=[1, 1e10])"
   ]
  },
  {
   "cell_type": "code",
   "execution_count": 11,
   "metadata": {},
   "outputs": [
    {
     "name": "stdout",
     "output_type": "stream",
     "text": [
      "Step 0 Accuracy: 0.944954128440367 Missed legit: 0\n",
      "Step 1 Accuracy: 0.944954128440367 Missed legit: 0\n",
      "Step 2 Accuracy: 0.9174311926605505 Missed legit: 0\n",
      "Step 3 Accuracy: 0.944954128440367 Missed legit: 0\n",
      "Step 4 Accuracy: 0.9174311926605505 Missed legit: 0\n",
      "Step 5 Accuracy: 0.9357798165137615 Missed legit: 0\n",
      "Step 6 Accuracy: 0.963302752293578 Missed legit: 0\n",
      "Step 7 Accuracy: 0.944954128440367 Missed legit: 0\n",
      "[1.00000000e+00 5.32243038e-25]\n",
      "[1.00000000e+00 1.08550982e-21]\n",
      "Step 8 Accuracy: 0.908256880733945 Missed legit: 2\n",
      "Step 9 Accuracy: 0.963302752293578 Missed legit: 0\n"
     ]
    },
    {
     "data": {
      "text/plain": [
       "0.938532110091743"
      ]
     },
     "execution_count": 11,
     "metadata": {},
     "output_type": "execute_result"
    }
   ],
   "source": [
    "cross_val_score(n_gram=1, alpha=0.00001, penalty=[1, 1e15])"
   ]
  },
  {
   "cell_type": "code",
   "execution_count": 12,
   "metadata": {},
   "outputs": [
    {
     "name": "stdout",
     "output_type": "stream",
     "text": [
      "Step 0 Accuracy: 0.926605504587156 Missed legit: 0\n",
      "Step 1 Accuracy: 0.9174311926605505 Missed legit: 0\n",
      "Step 2 Accuracy: 0.8990825688073395 Missed legit: 0\n",
      "Step 3 Accuracy: 0.9357798165137615 Missed legit: 0\n",
      "Step 4 Accuracy: 0.8990825688073395 Missed legit: 0\n",
      "Step 5 Accuracy: 0.926605504587156 Missed legit: 0\n",
      "Step 6 Accuracy: 0.9541284403669725 Missed legit: 0\n",
      "Step 7 Accuracy: 0.926605504587156 Missed legit: 0\n",
      "[1.00000000e+00 5.32243038e-20]\n",
      "[1.00000000e+00 1.08550982e-16]\n",
      "Step 8 Accuracy: 0.8899082568807339 Missed legit: 2\n",
      "Step 9 Accuracy: 0.944954128440367 Missed legit: 0\n"
     ]
    },
    {
     "data": {
      "text/plain": [
       "0.9220183486238532"
      ]
     },
     "execution_count": 12,
     "metadata": {},
     "output_type": "execute_result"
    }
   ],
   "source": [
    "cross_val_score(n_gram=1, alpha=0.00001, penalty=[1, 1e20])"
   ]
  },
  {
   "cell_type": "code",
   "execution_count": null,
   "metadata": {},
   "outputs": [],
   "source": []
  }
 ],
 "metadata": {
  "kernelspec": {
   "display_name": "PyCharm (Machine Learning)",
   "language": "python",
   "name": "pycharm-2419c8fd"
  },
  "language_info": {
   "codemirror_mode": {
    "name": "ipython",
    "version": 3
   },
   "file_extension": ".py",
   "mimetype": "text/x-python",
   "name": "python",
   "nbconvert_exporter": "python",
   "pygments_lexer": "ipython3",
   "version": "3.7.0"
  }
 },
 "nbformat": 4,
 "nbformat_minor": 4
}
